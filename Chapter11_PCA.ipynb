{
 "cells": [
  {
   "cell_type": "markdown",
   "id": "21a1f157-ad9f-4682-b520-6bfb6d1b563e",
   "metadata": {},
   "source": [
    "## 11.2 Preparing"
   ]
  },
  {
   "cell_type": "code",
   "execution_count": 1,
   "id": "c4108c8c-6300-4b2d-bd7c-377aa5085810",
   "metadata": {},
   "outputs": [],
   "source": [
    "import numpy as np\n",
    "import matplotlib.pyplot as plt\n",
    "from scipy import signal"
   ]
  },
  {
   "cell_type": "code",
   "execution_count": 2,
   "id": "69145b5f-11f4-4095-8b1b-602656c142cc",
   "metadata": {},
   "outputs": [],
   "source": [
    "from data_loader import load_tokyo_temp\n",
    "y, m, tokyo = load_tokyo_temp()\n",
    "\n",
    "utsu_temp = np.genfromtxt(\"data/Utsunomiya_temp.csv\",\n",
    "                           delimiter=\",\",\n",
    "                           usecols=(0, 1, 2)\n",
    "                          )\n",
    "utsu = utsu_temp[:, 2]\n",
    "\n",
    "tokyo = tokyo[(1990 <= y)*(y <=2019)]\n",
    "utsu = utsu[(1990 <= y)*(y <=2019)]\n",
    "m = m[(1990 <= y)*(y <=2019)]\n",
    "y = y[(1990 <= y)*(y <=2019)]\n",
    "\n"
   ]
  },
  {
   "cell_type": "code",
   "execution_count": 3,
   "id": "0a94f8fc-0df7-4368-b240-b5f53fccd0f7",
   "metadata": {},
   "outputs": [],
   "source": [
    "tokyoc = np.zeros([12])\n",
    "utsuc = np.zeros([12])\n",
    "\n",
    "for mm in range(1, 13):\n",
    "    tokyoc[mm-1] = np.nanmean(tokyo[m==mm], 0)\n",
    "    utsuc[mm-1] = np.nanmean(utsu[m==mm], 0)\n",
    "\n",
    "tokyoa = np.zeros((tokyo.shape))\n",
    "utsua = np.zeros((utsu.shape))\n",
    "for yy in range(1990, 2020):\n",
    "    for mm in range(1, 13):\n",
    "        tokyoa[(y==yy)*(m==mm)] = tokyo[(y==yy)*(m==mm)] - tokyoc[mm-1]\n",
    "        utsua[(y==yy)*(m==mm)] = utsu[(y==yy)*(m==mm)] - utsuc[mm-1]\n",
    "\n",
    "tokyoa = signal.detrend(tokyoa)\n",
    "utsua = signal.detrend(utsua)"
   ]
  },
  {
   "cell_type": "markdown",
   "id": "5ea849c6-6cd7-4d15-bd01-779d8cb1e2fd",
   "metadata": {},
   "source": [
    "### 11.3 Variance and Standard Deviation"
   ]
  },
  {
   "cell_type": "code",
   "execution_count": 4,
   "id": "289b5f3f-7129-4e6b-969b-42f7ed300a88",
   "metadata": {},
   "outputs": [
    {
     "name": "stdout",
     "output_type": "stream",
     "text": [
      "1.0319958222914387\n",
      "1.0844095840574333\n"
     ]
    }
   ],
   "source": [
    "print(np.var(tokyoa))\n",
    "print(np.var(utsua))"
   ]
  },
  {
   "cell_type": "code",
   "execution_count": 5,
   "id": "adb35fd5-a3bb-4cbd-b552-251f79e436bf",
   "metadata": {},
   "outputs": [
    {
     "name": "stdout",
     "output_type": "stream",
     "text": [
      "1.015871951720018\n",
      "1.0413498855127576\n"
     ]
    }
   ],
   "source": [
    "print(np.std(tokyoa))\n",
    "print(np.std(utsua))"
   ]
  },
  {
   "cell_type": "code",
   "execution_count": 6,
   "id": "1d15639e-f192-4c2c-8e81-35266267179b",
   "metadata": {},
   "outputs": [],
   "source": [
    "def draw_scatter(x, y, xname, yname):\n",
    "    plt.scatter(x, y)\n",
    "    plt.axhline(y=0, xmin=-10, xmax=10, color='k')\n",
    "    plt.axvline(x=0, ymin=-10, ymax=10, color='k')\n",
    "    plt.xlim(-5, 5)\n",
    "    plt.ylim(-5, 5)\n",
    "    plt.xlabel(xname)\n",
    "    plt.ylabel(yname)\n",
    "    plt.gca().set_aspect('equal', adjustable='box')\n"
   ]
  },
  {
   "cell_type": "code",
   "execution_count": 7,
   "id": "f9181937-364b-45a5-874b-1cff6d6906e6",
   "metadata": {},
   "outputs": [
    {
     "data": {
      "image/png": "[encoded data removed]",
      "text/plain": [
       "<Figure size 640x480 with 1 Axes>"
      ]
     },
     "metadata": {},
     "output_type": "display_data"
    }
   ],
   "source": [
    "draw_scatter(tokyoa, utsua, 'Tokyo(℃)', 'Utsunomiya(℃')"
   ]
  },
  {
   "cell_type": "markdown",
   "id": "233ef65e-dcff-42dd-96a5-31a233b7795b",
   "metadata": {},
   "source": [
    "### 11.5 find the direction of maximizing variance"
   ]
  },
  {
   "cell_type": "code",
   "execution_count": 8,
   "id": "1492710c-f19d-4d5d-91ca-c4d173499506",
   "metadata": {},
   "outputs": [],
   "source": [
    "N = tokyoa.shape[0]\n",
    "X = np.array([tokyoa, utsua])"
   ]
  },
  {
   "cell_type": "code",
   "execution_count": 9,
   "id": "7f6e4725-7515-4913-b000-09f315843f6d",
   "metadata": {},
   "outputs": [
    {
     "name": "stdout",
     "output_type": "stream",
     "text": [
      "E\n",
      "[[-0.69771535 -0.7163751 ]\n",
      " [-0.7163751   0.69771535]]\n",
      "L\n",
      "[[2.05139247 0.        ]\n",
      " [0.         0.06501294]]\n"
     ]
    }
   ],
   "source": [
    "C = X @ X.T / N\n",
    "[Lam, E] = np.linalg.eig(C)\n",
    "index = Lam.argsort()[::-1]\n",
    "Lam = Lam[index]\n",
    "E =E[:, index]\n",
    "L = np.diag(Lam)\n",
    "\n",
    "print(\"E\")\n",
    "print(E)\n",
    "\n",
    "print(\"L\")\n",
    "print(L)"
   ]
  },
  {
   "cell_type": "code",
   "execution_count": 10,
   "id": "83fa8079-6970-4411-b9cb-8a8f5b7efd89",
   "metadata": {},
   "outputs": [],
   "source": [
    "e1 = -E[:, 0]\n",
    "e2 = E[:, 1]"
   ]
  },
  {
   "cell_type": "code",
   "execution_count": 11,
   "id": "71be989a-805f-4477-9b3c-09d90911b6f2",
   "metadata": {},
   "outputs": [],
   "source": [
    "def draw_arrow(vec, color):\n",
    "    point = {\n",
    "        'start' : [0, 0],\n",
    "        'end': vec\n",
    "    }\n",
    "    plt.annotate('', xy=point['end'], xytext=point['start'],\n",
    "                 arrowprops=dict(shrink=0, width=3, headwidth=8,\n",
    "                                 headlength=10, connectionstyle='arc3',\n",
    "                                 facecolor=color, edgecolor='black'))\n"
   ]
  },
  {
   "cell_type": "code",
   "execution_count": 12,
   "id": "c883c349-e47b-407f-a144-bc3d333615f7",
   "metadata": {},
   "outputs": [
    {
     "data": {
      "image/png": "[encoded data removed]",
      "text/plain": [
       "<Figure size 640x480 with 1 Axes>"
      ]
     },
     "metadata": {},
     "output_type": "display_data"
    }
   ],
   "source": [
    "draw_scatter(tokyoa, utsua, 'Tokyo(℃)', 'Utsunomiya(℃)')\n",
    "draw_arrow(e1, 'red')\n",
    "draw_arrow(e2, 'yellow')"
   ]
  },
  {
   "cell_type": "code",
   "execution_count": null,
   "id": "66c22977-cda5-499c-b1f7-131632134c7c",
   "metadata": {},
   "outputs": [],
   "source": []
  }
 ],
 "metadata": {
  "kernelspec": {
   "display_name": "Python 3 (ipykernel)",
   "language": "python",
   "name": "python3"
  },
  "language_info": {
   "codemirror_mode": {
    "name": "ipython",
    "version": 3
   },
   "file_extension": ".py",
   "mimetype": "text/x-python",
   "name": "python",
   "nbconvert_exporter": "python",
   "pygments_lexer": "ipython3",
   "version": "3.9.19"
  }
 },
 "nbformat": 4,
 "nbformat_minor": 5
}
